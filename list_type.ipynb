{
  "nbformat": 4,
  "nbformat_minor": 0,
  "metadata": {
    "colab": {
      "provenance": [],
      "authorship_tag": "ABX9TyNN8t2IxvvK19AiIBTh40+C",
      "include_colab_link": true
    },
    "kernelspec": {
      "name": "python3",
      "display_name": "Python 3"
    },
    "language_info": {
      "name": "python"
    }
  },
  "cells": [
    {
      "cell_type": "markdown",
      "metadata": {
        "id": "view-in-github",
        "colab_type": "text"
      },
      "source": [
        "<a href=\"https://colab.research.google.com/github/saikarthik34/23CSBTB27-28/blob/main/list_type.ipynb\" target=\"_parent\"><img src=\"https://colab.research.google.com/assets/colab-badge.svg\" alt=\"Open In Colab\"/></a>"
      ]
    },
    {
      "cell_type": "markdown",
      "source": [],
      "metadata": {
        "id": "snfofqItiym7"
      }
    },
    {
      "cell_type": "code",
      "source": [],
      "metadata": {
        "id": "0VqbQ8BAizEb"
      },
      "execution_count": null,
      "outputs": []
    },
    {
      "cell_type": "markdown",
      "source": [
        "Part 1 – Implement Basic Data Structures using Numpy, Pandas"
      ],
      "metadata": {
        "id": "oRTMvT5CjRea"
      }
    },
    {
      "cell_type": "code",
      "source": [
        "import numpy as np\n",
        "list = {1,5,2,6,7}\n",
        "list1=[3,6,1,8]\n",
        "print(list)\n",
        "print(list1)\n",
        "print(type(list))\n",
        "print(type(list1))"
      ],
      "metadata": {
        "colab": {
          "base_uri": "https://localhost:8080/"
        },
        "id": "w1DCULuFjS7P",
        "outputId": "f763f833-22d8-4396-a44c-7efef30a4217"
      },
      "execution_count": 4,
      "outputs": [
        {
          "output_type": "stream",
          "name": "stdout",
          "text": [
            "{1, 2, 5, 6, 7}\n",
            "[3, 6, 1, 8]\n",
            "<class 'set'>\n",
            "<class 'list'>\n"
          ]
        }
      ]
    },
    {
      "cell_type": "code",
      "source": [
        "List = [\"Geeks\", \"For\", \"Geeks\"]\n",
        "List2 = \"my first lab\"\n",
        "List3 = 4.3\n",
        "List4 = 2j+6\n",
        "List5 = 'My first lab'\n",
        "print(type(List))\n",
        "print(type(List2))\n",
        "print(type(List3))\n",
        "print(type(List4))\n",
        "print(type(List5))\n",
        "print(\"\\nList Items: \")\n",
        "print(List)\n",
        "print(type(List))\n",
        "print(List[0])\n",
        "print(List[2])\n",
        "\n"
      ],
      "metadata": {
        "colab": {
          "base_uri": "https://localhost:8080/"
        },
        "id": "IBiMK1xpl12F",
        "outputId": "95ac3a5d-3705-413b-a311-7745bfb66c4d"
      },
      "execution_count": 7,
      "outputs": [
        {
          "output_type": "stream",
          "name": "stdout",
          "text": [
            "<class 'list'>\n",
            "<class 'str'>\n",
            "<class 'float'>\n",
            "<class 'complex'>\n",
            "<class 'str'>\n",
            "\n",
            "List Items: \n",
            "['Geeks', 'For', 'Geeks']\n",
            "<class 'list'>\n",
            "Geeks\n",
            "Geeks\n"
          ]
        }
      ]
    },
    {
      "cell_type": "code",
      "source": [],
      "metadata": {
        "id": "sDbNg_L8oiwj"
      },
      "execution_count": null,
      "outputs": []
    }
  ]
}